{
 "cells": [
  {
   "cell_type": "code",
   "execution_count": 2,
   "id": "e11841b8-6290-4ec1-9014-1dedd8b0fe65",
   "metadata": {},
   "outputs": [
    {
     "name": "stdout",
     "output_type": "stream",
     "text": [
      "Sub-fields in AI are:\n",
      "Machine learning\n",
      "Neural Networks\n",
      "Vision\n",
      "Robotics\n",
      "Speech processing\n",
      "Natural language processing\n"
     ]
    }
   ],
   "source": [
    "class SubfieldsInAI():\n",
    "    def subfields():\n",
    "        v='Sub-fields in AI are:'\n",
    "        print(v)\n",
    "        v='Machine learning'\n",
    "        print(v)\n",
    "        v='Neural Networks'\n",
    "        print(v)\n",
    "        v='Vision'\n",
    "        print(v)\n",
    "        v='Robotics'\n",
    "        print(v)\n",
    "        v='Speech processing'\n",
    "        print(v)\n",
    "        v='Natural language processing'\n",
    "        print(v)\n",
    "        return v\n",
    "\n",
    "a=SubfieldsInAI.subfields()\n",
    "    "
   ]
  },
  {
   "cell_type": "code",
   "execution_count": 5,
   "id": "6b6421ec-e066-43e2-9663-b42985c4bce8",
   "metadata": {},
   "outputs": [
    {
     "name": "stdin",
     "output_type": "stream",
     "text": [
      "Enter a number: 52452\n"
     ]
    },
    {
     "name": "stdout",
     "output_type": "stream",
     "text": [
      "52452 is even number\n"
     ]
    }
   ],
   "source": [
    "class OddEven():\n",
    "    def OddEven():\n",
    "        if(num%2==0):\n",
    "            print(num,'is even number')\n",
    "        else:\n",
    "            \n",
    "            print(num,'is odd number')\n",
    "        \n",
    "num=int(input('Enter a number:'))\n",
    "\n",
    "OddEven.OddEven()\n",
    "    "
   ]
  },
  {
   "cell_type": "code",
   "execution_count": 2,
   "id": "02c090b3-a456-40fa-9300-a3170ea80ad3",
   "metadata": {},
   "outputs": [
    {
     "name": "stdin",
     "output_type": "stream",
     "text": [
      "Your Gender: male\n",
      "Your Age: 20\n"
     ]
    },
    {
     "name": "stdout",
     "output_type": "stream",
     "text": [
      "NotElegible\n"
     ]
    }
   ],
   "source": [
    "class ElegibilityForMarriage():\n",
    "    def Elegible(gender, age):   \n",
    "        if(gender == \"male\" and age>=21):\n",
    "            b='Elegible'\n",
    "            print(b)\n",
    "        elif (gender == \"male\" and age <21):\n",
    "            b='NotElegible'\n",
    "            print(b)\n",
    "            return b\n",
    "    \n",
    "        elif (gender == \"female\" and age >= 18):\n",
    "            b='Elegible'\n",
    "            print(b)\n",
    "        else:\n",
    "            b='NotElegible'\n",
    "            print(b)\n",
    "    \n",
    "        \n",
    "        \n",
    "gender=input('Your Gender:')\n",
    "age=int(input('Your Age:'))\n",
    "\n",
    "a=ElegibilityForMarriage.Elegible(gender, age)"
   ]
  },
  {
   "cell_type": "code",
   "execution_count": 3,
   "id": "8a85f6c2-be07-4c87-b760-9273e9e15e97",
   "metadata": {},
   "outputs": [
    {
     "name": "stdin",
     "output_type": "stream",
     "text": [
      "Subject1= 98\n",
      "Subject2= 87\n",
      "Subject3= 95\n",
      "Subject4= 95\n",
      "Subject5= 93\n"
     ]
    },
    {
     "name": "stdout",
     "output_type": "stream",
     "text": [
      "Total: 468\n",
      "percentage: 93.6\n"
     ]
    },
    {
     "data": {
      "text/plain": [
       "(468, 93.6)"
      ]
     },
     "execution_count": 3,
     "metadata": {},
     "output_type": "execute_result"
    }
   ],
   "source": [
    "class Findpercent():\n",
    "    def percentage():\n",
    "        Total=s1+s2+s3+s4+s5\n",
    "        print('Total:',Total)\n",
    "        percentage=Total/5\n",
    "        print('percentage:',percentage)\n",
    "        return Total,percentage\n",
    "\n",
    "s1=int(input('Subject1='))\n",
    "s2=int(input('Subject2='))\n",
    "s3=int(input('Subject3='))\n",
    "s4=int(input('Subject4='))\n",
    "s5=int(input('Subject5='))\n",
    "\n",
    "\n",
    "Findpercent.percentage()    "
   ]
  },
  {
   "cell_type": "code",
   "execution_count": 5,
   "id": "dcb42b54-51f8-4f6e-9247-4f68b2e3f533",
   "metadata": {},
   "outputs": [
    {
     "name": "stdin",
     "output_type": "stream",
     "text": [
      "height: 32\n",
      "breadth: 34\n"
     ]
    },
    {
     "name": "stdout",
     "output_type": "stream",
     "text": [
      "area formula=(height*breadth)/2\n",
      "area of triangle: 544.0\n"
     ]
    },
    {
     "name": "stdin",
     "output_type": "stream",
     "text": [
      "height1: 2\n",
      "height2: 4\n",
      "breadth: 4\n"
     ]
    },
    {
     "name": "stdout",
     "output_type": "stream",
     "text": [
      "perimeter formula= height1+height2+breadth\n",
      "perimeter of triangle: 10\n"
     ]
    }
   ],
   "source": [
    "class triangle():\n",
    "    def triangle():\n",
    "        height=int(input('height:'))\n",
    "        breadth=int(input('breadth:'))\n",
    "        v=('area formula=(height*breadth)/2')\n",
    "        print(v)\n",
    "        print('area of triangle:',(height*breadth)/2)\n",
    "        height1=int(input('height1:'))\n",
    "        height2=int(input('height2:'))\n",
    "        breadth=int(input('breadth:'))\n",
    "        v=('perimeter formula= height1+height2+breadth')\n",
    "        print(v)\n",
    "        print('perimeter of triangle:',height1+height2+breadth)\n",
    "        return v\n",
    "\n",
    "\n",
    "\n",
    "a=triangle.triangle()\n",
    "    "
   ]
  },
  {
   "cell_type": "code",
   "execution_count": null,
   "id": "0774bf1e-21fe-4478-861f-4f782a8db435",
   "metadata": {},
   "outputs": [],
   "source": []
  }
 ],
 "metadata": {
  "kernelspec": {
   "display_name": "Python 3 (ipykernel)",
   "language": "python",
   "name": "python3"
  },
  "language_info": {
   "codemirror_mode": {
    "name": "ipython",
    "version": 3
   },
   "file_extension": ".py",
   "mimetype": "text/x-python",
   "name": "python",
   "nbconvert_exporter": "python",
   "pygments_lexer": "ipython3",
   "version": "3.12.4"
  }
 },
 "nbformat": 4,
 "nbformat_minor": 5
}
